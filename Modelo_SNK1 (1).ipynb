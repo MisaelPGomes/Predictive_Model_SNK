{
  "cells": [
    {
      "cell_type": "code",
      "execution_count": 1,
      "metadata": {
        "id": "fEz8GBaiWFEn",
        "colab": {
          "base_uri": "https://localhost:8080/"
        },
        "outputId": "4569df7b-0d60-4502-9974-953acf312b35"
      },
      "outputs": [
        {
          "output_type": "stream",
          "name": "stdout",
          "text": [
            "   N_Snk  Menor residual  desg    tx_des  Tempototal  P-(C<0,02)  P-UBC  \\\n",
            "0    390              50   102  0.075707      1347.3         0.0    0.0   \n",
            "1    392              50   102  0.091975      1109.0         0.0    0.0   \n",
            "2    394              50   102  0.081823      1246.6         0.0    0.0   \n",
            "3    395              50   102  0.060284      1692.0         0.0    0.0   \n",
            "4    396              50   102  0.046765      2181.1         0.0    0.0   \n",
            "\n",
            "   V-c/Ca(S≤3;H=2)  V-c/Ca(S≤3;H=3)  V-c/Ca(S≤3;H≥4)  ...  Media_Projecao  \\\n",
            "0              0.0         0.000000              0.0  ...      116.039604   \n",
            "1              0.0         0.000000              0.0  ...      101.315789   \n",
            "2              0.0         0.000000              0.0  ...       67.138889   \n",
            "3              0.0         0.000000              0.0  ...      108.279412   \n",
            "4              0.0       352.159796              0.0  ...      111.241071   \n",
            "\n",
            "   Aq>=200  Cal/Fluorita  Es>6h  Es>12h  Es>24h            Motivo_afast  \\\n",
            "0        3      7.399954      5       1       5  Deslocamento de tijolo   \n",
            "1        3     15.247034      4       5       4        Desgaste interno   \n",
            "2        5     11.542390      5       1       5        Desgaste externo   \n",
            "3       14     13.036021      4       3       4        Queda de Tijolos   \n",
            "4        8      9.012475      7       2       7        Desgaste da base   \n",
            "\n",
            "   M_Fluorita_LF  M_FluoritaKg  perc_proj  \n",
            "0       7.445545    172.198020   0.861386  \n",
            "1       8.381579     74.302632   0.815789  \n",
            "2       1.565789    103.052632   0.578947  \n",
            "3       1.105263     67.505263   0.547368  \n",
            "4      12.495575    151.805310   0.787611  \n",
            "\n",
            "[5 rows x 35 columns]\n"
          ]
        }
      ],
      "source": [
        "import pandas as pd\n",
        "import matplotlib.pyplot as plt\n",
        "from sklearn.tree import DecisionTreeRegressor\n",
        "\n",
        "\n",
        "variaveis = \"/content/Variaveis_SNK_4_filtradas.xlsx\"\n",
        "snk_data = pd.read_excel(variaveis)\n",
        "#print(snk_data)\n",
        "print(snk_data.head())   "
      ]
    },
    {
      "cell_type": "markdown",
      "source": [
        "feature_columns = [\"P-(C<0,02)\",\n",
        "                   \"P-UBC\",\n",
        "                   \"V-c/Ca(S≤3;H=2)\",\n",
        "\"V-c/Ca(S≤3;H=3)\",\n",
        "\"V-c/Ca(S≤3;H≥4)\",\n",
        "\"V-c/Ca(S≥4;H=2)\",\n",
        "\"V-c/Ca(S≥4;H=3)\",\n",
        "\"V-c/Ca(S≥4;H≥4)\",\n",
        "\"V-s/Ca(S≥4;H=3)\",\n",
        "\"V-s/Ca(S≥4;H≥4)\",\n",
        "\"V-UBC\",\n",
        "\"W-c/Ca(S≤3;H≥4)\",\n",
        "\"W-c/Ca(S≥4;H≥4)\",\n",
        "\"W-comum(eferv)\",\n",
        "\"W-s/Ca(S≤3;H≥4)\",\n",
        "\"W-s/Ca(S≥4;H≥4)\",\n",
        "\"W-UBC\",\n",
        "\"Fluorita_LF\",\n",
        "\"FluoritaKg\",\n",
        "\"M_Fluorita_LF\",\n",
        "\"M_FluoritaKg\",\n",
        "\"Media_Projecao\",\n",
        "\"Aq>=200\",\n",
        "\"Cal/Fluorita\",\n",
        "\"Es>6h\",\"perc_proj\"]"
      ],
      "metadata": {
        "id": "oIDidZcrtY_K"
      }
    },
    {
      "cell_type": "code",
      "execution_count": 2,
      "metadata": {
        "id": "9ALVe19G62U8"
      },
      "outputs": [],
      "source": [
        "y = snk_data.tx_des\n",
        "feature_columns = [\"P-(C<0,02)\",\n",
        "                   \"P-UBC\",\n",
        "                   \"V-c/Ca(S≤3;H=2)\",\n",
        "\"V-c/Ca(S≤3;H=3)\",\n",
        "\"V-c/Ca(S≤3;H≥4)\",\n",
        "\"V-c/Ca(S≥4;H=2)\",\n",
        "\"V-c/Ca(S≥4;H=3)\",\n",
        "\"V-c/Ca(S≥4;H≥4)\",\n",
        "\"V-s/Ca(S≥4;H=3)\",\n",
        "\"V-s/Ca(S≥4;H≥4)\",\n",
        "\"V-UBC\",\n",
        "\"W-c/Ca(S≤3;H≥4)\",\n",
        "\"W-c/Ca(S≥4;H≥4)\",\n",
        "\"W-comum(eferv)\",\n",
        "\"W-s/Ca(S≤3;H≥4)\",\n",
        "\"W-s/Ca(S≥4;H≥4)\",\n",
        "\"W-UBC\",\n",
        "\"Fluorita_LF\",\n",
        "\"FluoritaKg\",\n",
        "\"M_Fluorita_LF\",\n",
        "\"M_FluoritaKg\",\n",
        "\"Media_Projecao\",\n",
        "\"Aq>=200\",\n",
        "\"Cal/Fluorita\",\n",
        "\"Es>6h\",\"perc_proj\"]\n",
        "X = snk_data[feature_columns]\n",
        "\n",
        "snk_model = DecisionTreeRegressor()\n",
        "snk_model.fit(X,y)\n",
        "\n",
        "featur_columns = [\"P-(C<0,02)\",\n",
        "                   \"P-UBC\",\n",
        "                   \"V-c/Ca(S≤3;H=2)\",\n",
        "\"V-c/Ca(S≤3;H=3)\",\n",
        "\"V-c/Ca(S≤3;H≥4)\",\n",
        "\"V-c/Ca(S≥4;H=2)\",\n",
        "\"V-c/Ca(S≥4;H=3)\",\n",
        "\"V-c/Ca(S≥4;H≥4)\",\n",
        "\"V-s/Ca(S≥4;H=3)\",\n",
        "\"V-s/Ca(S≥4;H≥4)\",\n",
        "\"V-UBC\",\n",
        "\"W-c/Ca(S≤3;H≥4)\",\n",
        "\"W-c/Ca(S≥4;H≥4)\",\n",
        "\"W-comum(eferv)\",\n",
        "\"W-s/Ca(S≤3;H≥4)\",\n",
        "\"W-s/Ca(S≥4;H≥4)\",\n",
        "\"W-UBC\",\n",
        "\"Fluorita_LF\",\n",
        "\"FluoritaKg\",\n",
        "\"M_Fluorita_LF\",\n",
        "\"M_FluoritaKg\",\n",
        "\"Media_Projecao\",\n",
        "\"Aq>=200\",\n",
        "\"Cal/Fluorita\",\n",
        "\"Es>6h\",\"perc_proj\"]"
      ]
    },
    {
      "cell_type": "code",
      "execution_count": 3,
      "metadata": {
        "id": "f2YrWidCn_xS",
        "colab": {
          "base_uri": "https://localhost:8080/"
        },
        "outputId": "acd6d311-0b68-44af-a6af-0e05cdec4771"
      },
      "outputs": [
        {
          "output_type": "stream",
          "name": "stdout",
          "text": [
            "First in-sample predictions: [0.07570697 0.09197475 0.08182256 0.06028369 0.04676539]\n",
            "Actual target values : [0.07570696949454461, 0.09197475202885483, 0.08182255735600835, 0.06028368794326243, 0.046765393608729534]\n"
          ]
        }
      ],
      "source": [
        "print(\"First in-sample predictions:\", snk_model.predict(X.head()))\n",
        "print(\"Actual target values :\", y.head().tolist())\n"
      ]
    },
    {
      "cell_type": "code",
      "execution_count": 4,
      "metadata": {
        "id": "Ps33DNnq5BoW"
      },
      "outputs": [],
      "source": [
        "from sklearn.model_selection import train_test_split\n",
        "# fill in and uncomment\n",
        "train_X, val_X, train_y, val_y = train_test_split(X,y, random_state = 1)\n"
      ]
    },
    {
      "cell_type": "code",
      "execution_count": 5,
      "metadata": {
        "id": "UsP4m5wM5NhS",
        "colab": {
          "base_uri": "https://localhost:8080/"
        },
        "outputId": "3375c9f6-c184-4eea-fb06-d1a0de82fd23"
      },
      "outputs": [
        {
          "output_type": "execute_result",
          "data": {
            "text/plain": [
              "DecisionTreeRegressor(max_leaf_nodes=5, random_state=1)"
            ]
          },
          "metadata": {},
          "execution_count": 5
        }
      ],
      "source": [
        "snk_model = DecisionTreeRegressor(max_leaf_nodes=5, random_state=1)\n",
        "snk_model.fit(train_X, train_y)"
      ]
    },
    {
      "cell_type": "code",
      "execution_count": 6,
      "metadata": {
        "id": "nvvkHY_e5gZp"
      },
      "outputs": [],
      "source": [
        "val_predictions = snk_model.predict(val_X)"
      ]
    },
    {
      "cell_type": "code",
      "execution_count": 7,
      "metadata": {
        "id": "hETUEj385pXK",
        "colab": {
          "base_uri": "https://localhost:8080/"
        },
        "outputId": "7e2c8b60-0866-4045-de46-8f0a1eba0dca"
      },
      "outputs": [
        {
          "output_type": "stream",
          "name": "stdout",
          "text": [
            "[0.06379635 0.07244321 0.06379635 0.06379635 0.06379635 0.06379635\n",
            " 0.06379635 0.07244321 0.06379635 0.09964082 0.06379635 0.06379635\n",
            " 0.06379635 0.07244321 0.06379635 0.07244321 0.04701789 0.06379635\n",
            " 0.06379635]\n",
            "19    0.045118\n",
            "55    0.033487\n",
            "10    0.056195\n",
            "69    0.072942\n",
            "54    0.059775\n",
            "26    0.057063\n",
            "40    0.040316\n",
            "33    0.057053\n",
            "34    0.055961\n",
            "60    0.042185\n",
            "44    0.042296\n",
            "47    0.040784\n",
            "2     0.081823\n",
            "53    0.038836\n",
            "27    0.053781\n",
            "39    0.113734\n",
            "15    0.038781\n",
            "43    0.100552\n",
            "35    0.071851\n",
            "Name: tx_des, dtype: float64\n"
          ]
        }
      ],
      "source": [
        "print(val_predictions)\n",
        "print(val_y)"
      ]
    },
    {
      "cell_type": "code",
      "execution_count": 8,
      "metadata": {
        "id": "Bz6k6Ogw6eUj",
        "colab": {
          "base_uri": "https://localhost:8080/"
        },
        "outputId": "8cba7c76-138d-488e-c331-c0b7200fc65e"
      },
      "outputs": [
        {
          "output_type": "stream",
          "name": "stdout",
          "text": [
            "0.020515683532164646\n"
          ]
        }
      ],
      "source": [
        "from sklearn.metrics import mean_absolute_error\n",
        "val_mae = mean_absolute_error(val_y, val_predictions)\n",
        "print(val_mae)"
      ]
    },
    {
      "cell_type": "code",
      "execution_count": 9,
      "metadata": {
        "id": "7mqbhHvMJsVI"
      },
      "outputs": [],
      "source": [
        "from sklearn.metrics import mean_absolute_error\n",
        "from sklearn.tree import DecisionTreeRegressor\n",
        "\n",
        "def get_mae(max_leaf_nodes, train_X, val_X, train_y, val_y):\n",
        "    model = DecisionTreeRegressor(max_leaf_nodes=max_leaf_nodes, random_state=0)\n",
        "    model.fit(train_X, train_y)\n",
        "    preds_val = model.predict(val_X)\n",
        "    mae = mean_absolute_error(val_y, preds_val)\n",
        "    return(mae)"
      ]
    },
    {
      "cell_type": "code",
      "execution_count": 10,
      "metadata": {
        "id": "-vqu91vwJ29e",
        "colab": {
          "base_uri": "https://localhost:8080/"
        },
        "outputId": "c08716e2-0eab-4cde-acfe-f912d36fd9cc"
      },
      "outputs": [
        {
          "output_type": "stream",
          "name": "stdout",
          "text": [
            "Max leaf nodes: 5  \t\t Mean Absolute Error:  0\n",
            "Max leaf nodes: 50  \t\t Mean Absolute Error:  0\n",
            "Max leaf nodes: 500  \t\t Mean Absolute Error:  0\n",
            "Max leaf nodes: 5000  \t\t Mean Absolute Error:  0\n"
          ]
        }
      ],
      "source": [
        "# compare MAE with differing values of max_leaf_nodes\n",
        "for max_leaf_nodes in [5, 50, 500, 5000]:\n",
        "    my_mae = get_mae(max_leaf_nodes, train_X, val_X, train_y, val_y)\n",
        "    print(\"Max leaf nodes: %d  \\t\\t Mean Absolute Error:  %d\" %(max_leaf_nodes, my_mae))"
      ]
    },
    {
      "cell_type": "code",
      "execution_count": 11,
      "metadata": {
        "id": "KCj4NGLinCam",
        "colab": {
          "base_uri": "https://localhost:8080/"
        },
        "outputId": "91983668-3c0a-4ec1-e06b-d2c9ff765d5b"
      },
      "outputs": [
        {
          "output_type": "stream",
          "name": "stdout",
          "text": [
            "[0.05527409 0.04776148 0.05633256 0.06732283 0.06420696 0.05916809\n",
            " 0.04668683 0.06333325 0.06166687 0.05820917 0.04751974 0.04554367\n",
            " 0.074158   0.04891041 0.05909577 0.10039662 0.04844301 0.09127982\n",
            " 0.07122565]\n",
            "19    0.045118\n",
            "55    0.033487\n",
            "10    0.056195\n",
            "69    0.072942\n",
            "54    0.059775\n",
            "26    0.057063\n",
            "40    0.040316\n",
            "33    0.057053\n",
            "34    0.055961\n",
            "60    0.042185\n",
            "44    0.042296\n",
            "47    0.040784\n",
            "2     0.081823\n",
            "53    0.038836\n",
            "27    0.053781\n",
            "39    0.113734\n",
            "15    0.038781\n",
            "43    0.100552\n",
            "35    0.071851\n",
            "Name: tx_des, dtype: float64\n"
          ]
        }
      ],
      "source": [
        "# Using Randon Forest\n",
        "\n",
        "from sklearn.ensemble import RandomForestRegressor\n",
        "from sklearn import metrics\n",
        "import numpy as np\n",
        "# Define the model. Set random_state to 1\n",
        "rf_model = RandomForestRegressor(n_estimators = 1000,max_depth=5,random_state = 0)\n",
        "\n",
        "# fit your model\n",
        "rf_model.fit(X,y)\n",
        "\n",
        "rf_val_predictions = rf_model.predict(val_X)\n",
        "print(rf_val_predictions)\n",
        "\n",
        "print(val_y)"
      ]
    },
    {
      "cell_type": "code",
      "source": [
        "\n",
        "feature_scores = pd.Series(rf_model.feature_importances_, index=X.columns).sort_values(ascending=False)\n",
        "feature_scores"
      ],
      "metadata": {
        "colab": {
          "base_uri": "https://localhost:8080/"
        },
        "id": "Waz-tjfCphq7",
        "outputId": "46849a20-e6c7-4328-a8f6-10408237ed09"
      },
      "execution_count": 12,
      "outputs": [
        {
          "output_type": "execute_result",
          "data": {
            "text/plain": [
              "M_FluoritaKg       0.141795\n",
              "Aq>=200            0.138419\n",
              "FluoritaKg         0.096780\n",
              "W-s/Ca(S≥4;H≥4)    0.090133\n",
              "W-UBC              0.073118\n",
              "V-c/Ca(S≤3;H=2)    0.051796\n",
              "M_Fluorita_LF      0.051551\n",
              "W-comum(eferv)     0.047683\n",
              "W-c/Ca(S≤3;H≥4)    0.044622\n",
              "Media_Projecao     0.043725\n",
              "perc_proj          0.037333\n",
              "Es>6h              0.036309\n",
              "W-c/Ca(S≥4;H≥4)    0.036154\n",
              "Cal/Fluorita       0.027153\n",
              "Fluorita_LF        0.022128\n",
              "V-s/Ca(S≥4;H≥4)    0.015019\n",
              "P-(C<0,02)         0.014256\n",
              "V-s/Ca(S≥4;H=3)    0.013337\n",
              "V-c/Ca(S≤3;H=3)    0.006237\n",
              "V-c/Ca(S≥4;H=3)    0.004883\n",
              "V-c/Ca(S≤3;H≥4)    0.003609\n",
              "V-UBC              0.001251\n",
              "P-UBC              0.001251\n",
              "V-c/Ca(S≥4;H≥4)    0.001072\n",
              "V-c/Ca(S≥4;H=2)    0.000265\n",
              "W-s/Ca(S≤3;H≥4)    0.000121\n",
              "dtype: float64"
            ]
          },
          "metadata": {},
          "execution_count": 12
        }
      ]
    },
    {
      "cell_type": "code",
      "source": [
        "import seaborn as sns # statistical data visualization\n",
        "sns.barplot(x=feature_scores, y=feature_scores.index)\n",
        "\n",
        "\n",
        "\n",
        "# Add labels to the graph\n",
        "\n",
        "plt.xlabel('Feature Importance Score')\n",
        "\n",
        "plt.ylabel('Features')\n",
        "\n",
        "\n",
        "\n",
        "# Add title to the graph\n",
        "\n",
        "plt.title(\"Visualizing Important Features\")\n",
        "\n",
        "\n",
        "\n",
        "# Visualize the graph\n",
        "\n",
        "plt.show()"
      ],
      "metadata": {
        "colab": {
          "base_uri": "https://localhost:8080/",
          "height": 295
        },
        "id": "b9wIMF3grYsD",
        "outputId": "0e10dc29-8369-4ce9-aefe-50208f2b3875"
      },
      "execution_count": 13,
      "outputs": [
        {
          "output_type": "display_data",
          "data": {
            "text/plain": [
              "<Figure size 432x288 with 1 Axes>"
            ],
            "image/png": "[encoded data removed]"
          },
          "metadata": {
            "needs_background": "light"
          }
        }
      ]
    },
    {
      "cell_type": "code",
      "source": [
        "import graphviz\n",
        "from sklearn.tree import export_graphviz\n",
        "\n",
        "dot_data = export_graphviz(rf_model.estimators_[9])\n",
        "\n",
        "graph = graphviz.Source(dot_data, format='png')\n",
        "graph"
      ],
      "metadata": {
        "colab": {
          "base_uri": "https://localhost:8080/",
          "height": 816
        },
        "id": "CiSKn4-axghI",
        "outputId": "d3e66a40-3dd4-4e7c-dc54-4be1dd7f38bb"
      },
      "execution_count": 14,
      "outputs": [
        {
          "output_type": "execute_result",
          "data": {
            "text/plain": [
              "<graphviz.files.Source at 0x7fa6f65f4a90>"
            ],
            "image/svg+xml": "<?xml version=\"1.0\" encoding=\"UTF-8\" standalone=\"no\"?>\n<!DOCTYPE svg PUBLIC \"-//W3C//DTD SVG 1.1//EN\"\n \"http://www.w3.org/Graphics/SVG/1.1/DTD/svg11.dtd\">\n<!-- Generated by graphviz version 2.43.0 (0)\n -->\n<!-- Title: Tree Pages: 1 -->\n<svg width=\"1996pt\" height=\"581pt\"\n viewBox=\"0.00 0.00 1996.00 581.00\" xmlns=\"http://www.w3.org/2000/svg\" xmlns:xlink=\"http://www.w3.org/1999/xlink\">\n<g id=\"graph0\" class=\"graph\" transform=\"scale(1 1) rotate(0) translate(4 577)\">\n<title>Tree</title>\n<polygon fill=\"white\" stroke=\"transparent\" points=\"-4,4 -4,-577 1992,-577 1992,4 -4,4\"/>\n<!-- 0 -->\n<g id=\"node1\" class=\"node\">\n<title>0</title>\n<polygon fill=\"none\" stroke=\"black\" points=\"1175,-573 1039,-573 1039,-505 1175,-505 1175,-573\"/>\n<text text-anchor=\"middle\" x=\"1107\" y=\"-557.8\" font-family=\"Helvetica,sans-Serif\" font-size=\"14.00\">X[22] &lt;= 5.5</text>\n<text text-anchor=\"middle\" x=\"1107\" y=\"-542.8\" font-family=\"Helvetica,sans-Serif\" font-size=\"14.00\">squared_error = 0.0</text>\n<text text-anchor=\"middle\" x=\"1107\" y=\"-527.8\" font-family=\"Helvetica,sans-Serif\" font-size=\"14.00\">samples = 43</text>\n<text text-anchor=\"middle\" x=\"1107\" y=\"-512.8\" font-family=\"Helvetica,sans-Serif\" font-size=\"14.00\">value = 0.063</text>\n</g>\n<!-- 1 -->\n<g id=\"node2\" class=\"node\">\n<title>1</title>\n<polygon fill=\"none\" stroke=\"black\" points=\"983,-469 847,-469 847,-401 983,-401 983,-469\"/>\n<text text-anchor=\"middle\" x=\"915\" y=\"-453.8\" font-family=\"Helvetica,sans-Serif\" font-size=\"14.00\">X[11] &lt;= 133.031</text>\n<text text-anchor=\"middle\" x=\"915\" y=\"-438.8\" font-family=\"Helvetica,sans-Serif\" font-size=\"14.00\">squared_error = 0.0</text>\n<text text-anchor=\"middle\" x=\"915\" y=\"-423.8\" font-family=\"Helvetica,sans-Serif\" font-size=\"14.00\">samples = 21</text>\n<text text-anchor=\"middle\" x=\"915\" y=\"-408.8\" font-family=\"Helvetica,sans-Serif\" font-size=\"14.00\">value = 0.074</text>\n</g>\n<!-- 0&#45;&gt;1 -->\n<g id=\"edge1\" class=\"edge\">\n<title>0&#45;&gt;1</title>\n<path fill=\"none\" stroke=\"black\" d=\"M1044.66,-504.88C1026.04,-494.99 1005.48,-484.07 986.33,-473.9\"/>\n<polygon fill=\"black\" stroke=\"black\" points=\"987.83,-470.73 977.35,-469.12 984.54,-476.91 987.83,-470.73\"/>\n<text text-anchor=\"middle\" x=\"984.67\" y=\"-489.33\" font-family=\"Helvetica,sans-Serif\" font-size=\"14.00\">True</text>\n</g>\n<!-- 20 -->\n<g id=\"node21\" class=\"node\">\n<title>20</title>\n<polygon fill=\"none\" stroke=\"black\" points=\"1445,-469 1309,-469 1309,-401 1445,-401 1445,-469\"/>\n<text text-anchor=\"middle\" x=\"1377\" y=\"-453.8\" font-family=\"Helvetica,sans-Serif\" font-size=\"14.00\">X[17] &lt;= 1465.0</text>\n<text text-anchor=\"middle\" x=\"1377\" y=\"-438.8\" font-family=\"Helvetica,sans-Serif\" font-size=\"14.00\">squared_error = 0.0</text>\n<text text-anchor=\"middle\" x=\"1377\" y=\"-423.8\" font-family=\"Helvetica,sans-Serif\" font-size=\"14.00\">samples = 22</text>\n<text text-anchor=\"middle\" x=\"1377\" y=\"-408.8\" font-family=\"Helvetica,sans-Serif\" font-size=\"14.00\">value = 0.053</text>\n</g>\n<!-- 0&#45;&gt;20 -->\n<g id=\"edge20\" class=\"edge\">\n<title>0&#45;&gt;20</title>\n<path fill=\"none\" stroke=\"black\" d=\"M1175.13,-512.26C1212.86,-498.01 1259.92,-480.23 1299.11,-465.43\"/>\n<polygon fill=\"black\" stroke=\"black\" points=\"1300.77,-468.54 1308.89,-461.73 1298.3,-461.99 1300.77,-468.54\"/>\n<text text-anchor=\"middle\" x=\"1298.6\" y=\"-480.81\" font-family=\"Helvetica,sans-Serif\" font-size=\"14.00\">False</text>\n</g>\n<!-- 2 -->\n<g id=\"node3\" class=\"node\">\n<title>2</title>\n<polygon fill=\"none\" stroke=\"black\" points=\"521,-365 385,-365 385,-297 521,-297 521,-365\"/>\n<text text-anchor=\"middle\" x=\"453\" y=\"-349.8\" font-family=\"Helvetica,sans-Serif\" font-size=\"14.00\">X[24] &lt;= 0.5</text>\n<text text-anchor=\"middle\" x=\"453\" y=\"-334.8\" font-family=\"Helvetica,sans-Serif\" font-size=\"14.00\">squared_error = 0.0</text>\n<text text-anchor=\"middle\" x=\"453\" y=\"-319.8\" font-family=\"Helvetica,sans-Serif\" font-size=\"14.00\">samples = 16</text>\n<text text-anchor=\"middle\" x=\"453\" y=\"-304.8\" font-family=\"Helvetica,sans-Serif\" font-size=\"14.00\">value = 0.068</text>\n</g>\n<!-- 1&#45;&gt;2 -->\n<g id=\"edge2\" class=\"edge\">\n<title>1&#45;&gt;2</title>\n<path fill=\"none\" stroke=\"black\" d=\"M846.83,-418.95C762.6,-400.35 619.61,-368.78 531.06,-349.23\"/>\n<polygon fill=\"black\" stroke=\"black\" points=\"531.59,-345.77 521.07,-347.03 530.08,-352.6 531.59,-345.77\"/>\n</g>\n<!-- 13 -->\n<g id=\"node14\" class=\"node\">\n<title>13</title>\n<polygon fill=\"none\" stroke=\"black\" points=\"983,-365 847,-365 847,-297 983,-297 983,-365\"/>\n<text text-anchor=\"middle\" x=\"915\" y=\"-349.8\" font-family=\"Helvetica,sans-Serif\" font-size=\"14.00\">X[17] &lt;= 732.0</text>\n<text text-anchor=\"middle\" x=\"915\" y=\"-334.8\" font-family=\"Helvetica,sans-Serif\" font-size=\"14.00\">squared_error = 0.0</text>\n<text text-anchor=\"middle\" x=\"915\" y=\"-319.8\" font-family=\"Helvetica,sans-Serif\" font-size=\"14.00\">samples = 5</text>\n<text text-anchor=\"middle\" x=\"915\" y=\"-304.8\" font-family=\"Helvetica,sans-Serif\" font-size=\"14.00\">value = 0.088</text>\n</g>\n<!-- 1&#45;&gt;13 -->\n<g id=\"edge13\" class=\"edge\">\n<title>1&#45;&gt;13</title>\n<path fill=\"none\" stroke=\"black\" d=\"M915,-400.88C915,-392.78 915,-383.98 915,-375.47\"/>\n<polygon fill=\"black\" stroke=\"black\" points=\"918.5,-375.3 915,-365.3 911.5,-375.3 918.5,-375.3\"/>\n</g>\n<!-- 3 -->\n<g id=\"node4\" class=\"node\">\n<title>3</title>\n<polygon fill=\"none\" stroke=\"black\" points=\"290,-261 154,-261 154,-193 290,-193 290,-261\"/>\n<text text-anchor=\"middle\" x=\"222\" y=\"-245.8\" font-family=\"Helvetica,sans-Serif\" font-size=\"14.00\">X[15] &lt;= 234.738</text>\n<text text-anchor=\"middle\" x=\"222\" y=\"-230.8\" font-family=\"Helvetica,sans-Serif\" font-size=\"14.00\">squared_error = 0.0</text>\n<text text-anchor=\"middle\" x=\"222\" y=\"-215.8\" font-family=\"Helvetica,sans-Serif\" font-size=\"14.00\">samples = 2</text>\n<text text-anchor=\"middle\" x=\"222\" y=\"-200.8\" font-family=\"Helvetica,sans-Serif\" font-size=\"14.00\">value = 0.048</text>\n</g>\n<!-- 2&#45;&gt;3 -->\n<g id=\"edge3\" class=\"edge\">\n<title>2&#45;&gt;3</title>\n<path fill=\"none\" stroke=\"black\" d=\"M384.94,-299.95C358.16,-288.12 327.26,-274.48 299.61,-262.27\"/>\n<polygon fill=\"black\" stroke=\"black\" points=\"300.93,-259.03 290.37,-258.19 298.1,-265.43 300.93,-259.03\"/>\n</g>\n<!-- 6 -->\n<g id=\"node7\" class=\"node\">\n<title>6</title>\n<polygon fill=\"none\" stroke=\"black\" points=\"521,-261 385,-261 385,-193 521,-193 521,-261\"/>\n<text text-anchor=\"middle\" x=\"453\" y=\"-245.8\" font-family=\"Helvetica,sans-Serif\" font-size=\"14.00\">X[20] &lt;= 152.934</text>\n<text text-anchor=\"middle\" x=\"453\" y=\"-230.8\" font-family=\"Helvetica,sans-Serif\" font-size=\"14.00\">squared_error = 0.0</text>\n<text text-anchor=\"middle\" x=\"453\" y=\"-215.8\" font-family=\"Helvetica,sans-Serif\" font-size=\"14.00\">samples = 14</text>\n<text text-anchor=\"middle\" x=\"453\" y=\"-200.8\" font-family=\"Helvetica,sans-Serif\" font-size=\"14.00\">value = 0.071</text>\n</g>\n<!-- 2&#45;&gt;6 -->\n<g id=\"edge6\" class=\"edge\">\n<title>2&#45;&gt;6</title>\n<path fill=\"none\" stroke=\"black\" d=\"M453,-296.88C453,-288.78 453,-279.98 453,-271.47\"/>\n<polygon fill=\"black\" stroke=\"black\" points=\"456.5,-271.3 453,-261.3 449.5,-271.3 456.5,-271.3\"/>\n</g>\n<!-- 4 -->\n<g id=\"node5\" class=\"node\">\n<title>4</title>\n<polygon fill=\"none\" stroke=\"black\" points=\"136,-149.5 0,-149.5 0,-96.5 136,-96.5 136,-149.5\"/>\n<text text-anchor=\"middle\" x=\"68\" y=\"-134.3\" font-family=\"Helvetica,sans-Serif\" font-size=\"14.00\">squared_error = 0.0</text>\n<text text-anchor=\"middle\" x=\"68\" y=\"-119.3\" font-family=\"Helvetica,sans-Serif\" font-size=\"14.00\">samples = 1</text>\n<text text-anchor=\"middle\" x=\"68\" y=\"-104.3\" font-family=\"Helvetica,sans-Serif\" font-size=\"14.00\">value = 0.042</text>\n</g>\n<!-- 3&#45;&gt;4 -->\n<g id=\"edge4\" class=\"edge\">\n<title>3&#45;&gt;4</title>\n<path fill=\"none\" stroke=\"black\" d=\"M172,-192.88C153.74,-180.79 133.15,-167.15 115.14,-155.22\"/>\n<polygon fill=\"black\" stroke=\"black\" points=\"116.8,-152.12 106.53,-149.52 112.93,-157.96 116.8,-152.12\"/>\n</g>\n<!-- 5 -->\n<g id=\"node6\" class=\"node\">\n<title>5</title>\n<polygon fill=\"none\" stroke=\"black\" points=\"290,-149.5 154,-149.5 154,-96.5 290,-96.5 290,-149.5\"/>\n<text text-anchor=\"middle\" x=\"222\" y=\"-134.3\" font-family=\"Helvetica,sans-Serif\" font-size=\"14.00\">squared_error = 0.0</text>\n<text text-anchor=\"middle\" x=\"222\" y=\"-119.3\" font-family=\"Helvetica,sans-Serif\" font-size=\"14.00\">samples = 1</text>\n<text text-anchor=\"middle\" x=\"222\" y=\"-104.3\" font-family=\"Helvetica,sans-Serif\" font-size=\"14.00\">value = 0.061</text>\n</g>\n<!-- 3&#45;&gt;5 -->\n<g id=\"edge5\" class=\"edge\">\n<title>3&#45;&gt;5</title>\n<path fill=\"none\" stroke=\"black\" d=\"M222,-192.88C222,-182.33 222,-170.6 222,-159.85\"/>\n<polygon fill=\"black\" stroke=\"black\" points=\"225.5,-159.52 222,-149.52 218.5,-159.52 225.5,-159.52\"/>\n</g>\n<!-- 7 -->\n<g id=\"node8\" class=\"node\">\n<title>7</title>\n<polygon fill=\"none\" stroke=\"black\" points=\"444,-157 308,-157 308,-89 444,-89 444,-157\"/>\n<text text-anchor=\"middle\" x=\"376\" y=\"-141.8\" font-family=\"Helvetica,sans-Serif\" font-size=\"14.00\">X[19] &lt;= 3.191</text>\n<text text-anchor=\"middle\" x=\"376\" y=\"-126.8\" font-family=\"Helvetica,sans-Serif\" font-size=\"14.00\">squared_error = 0.0</text>\n<text text-anchor=\"middle\" x=\"376\" y=\"-111.8\" font-family=\"Helvetica,sans-Serif\" font-size=\"14.00\">samples = 6</text>\n<text text-anchor=\"middle\" x=\"376\" y=\"-96.8\" font-family=\"Helvetica,sans-Serif\" font-size=\"14.00\">value = 0.064</text>\n</g>\n<!-- 6&#45;&gt;7 -->\n<g id=\"edge7\" class=\"edge\">\n<title>6&#45;&gt;7</title>\n<path fill=\"none\" stroke=\"black\" d=\"M428,-192.88C421.41,-184.15 414.22,-174.62 407.34,-165.51\"/>\n<polygon fill=\"black\" stroke=\"black\" points=\"409.96,-163.17 401.14,-157.3 404.37,-167.39 409.96,-163.17\"/>\n</g>\n<!-- 10 -->\n<g id=\"node11\" class=\"node\">\n<title>10</title>\n<polygon fill=\"none\" stroke=\"black\" points=\"598,-157 462,-157 462,-89 598,-89 598,-157\"/>\n<text text-anchor=\"middle\" x=\"530\" y=\"-141.8\" font-family=\"Helvetica,sans-Serif\" font-size=\"14.00\">X[19] &lt;= 0.347</text>\n<text text-anchor=\"middle\" x=\"530\" y=\"-126.8\" font-family=\"Helvetica,sans-Serif\" font-size=\"14.00\">squared_error = 0.0</text>\n<text text-anchor=\"middle\" x=\"530\" y=\"-111.8\" font-family=\"Helvetica,sans-Serif\" font-size=\"14.00\">samples = 8</text>\n<text text-anchor=\"middle\" x=\"530\" y=\"-96.8\" font-family=\"Helvetica,sans-Serif\" font-size=\"14.00\">value = 0.075</text>\n</g>\n<!-- 6&#45;&gt;10 -->\n<g id=\"edge10\" class=\"edge\">\n<title>6&#45;&gt;10</title>\n<path fill=\"none\" stroke=\"black\" d=\"M478,-192.88C484.59,-184.15 491.78,-174.62 498.66,-165.51\"/>\n<polygon fill=\"black\" stroke=\"black\" points=\"501.63,-167.39 504.86,-157.3 496.04,-163.17 501.63,-167.39\"/>\n</g>\n<!-- 8 -->\n<g id=\"node9\" class=\"node\">\n<title>8</title>\n<polygon fill=\"none\" stroke=\"black\" points=\"290,-53 154,-53 154,0 290,0 290,-53\"/>\n<text text-anchor=\"middle\" x=\"222\" y=\"-37.8\" font-family=\"Helvetica,sans-Serif\" font-size=\"14.00\">squared_error = 0.0</text>\n<text text-anchor=\"middle\" x=\"222\" y=\"-22.8\" font-family=\"Helvetica,sans-Serif\" font-size=\"14.00\">samples = 2</text>\n<text text-anchor=\"middle\" x=\"222\" y=\"-7.8\" font-family=\"Helvetica,sans-Serif\" font-size=\"14.00\">value = 0.077</text>\n</g>\n<!-- 7&#45;&gt;8 -->\n<g id=\"edge8\" class=\"edge\">\n<title>7&#45;&gt;8</title>\n<path fill=\"none\" stroke=\"black\" d=\"M322.14,-88.95C306.04,-79.07 288.45,-68.28 272.57,-58.53\"/>\n<polygon fill=\"black\" stroke=\"black\" points=\"274.3,-55.48 263.94,-53.24 270.63,-61.45 274.3,-55.48\"/>\n</g>\n<!-- 9 -->\n<g id=\"node10\" class=\"node\">\n<title>9</title>\n<polygon fill=\"none\" stroke=\"black\" points=\"444,-53 308,-53 308,0 444,0 444,-53\"/>\n<text text-anchor=\"middle\" x=\"376\" y=\"-37.8\" font-family=\"Helvetica,sans-Serif\" font-size=\"14.00\">squared_error = 0.0</text>\n<text text-anchor=\"middle\" x=\"376\" y=\"-22.8\" font-family=\"Helvetica,sans-Serif\" font-size=\"14.00\">samples = 4</text>\n<text text-anchor=\"middle\" x=\"376\" y=\"-7.8\" font-family=\"Helvetica,sans-Serif\" font-size=\"14.00\">value = 0.059</text>\n</g>\n<!-- 7&#45;&gt;9 -->\n<g id=\"edge9\" class=\"edge\">\n<title>7&#45;&gt;9</title>\n<path fill=\"none\" stroke=\"black\" d=\"M376,-88.95C376,-80.72 376,-71.85 376,-63.48\"/>\n<polygon fill=\"black\" stroke=\"black\" points=\"379.5,-63.24 376,-53.24 372.5,-63.24 379.5,-63.24\"/>\n</g>\n<!-- 11 -->\n<g id=\"node12\" class=\"node\">\n<title>11</title>\n<polygon fill=\"none\" stroke=\"black\" points=\"598,-53 462,-53 462,0 598,0 598,-53\"/>\n<text text-anchor=\"middle\" x=\"530\" y=\"-37.8\" font-family=\"Helvetica,sans-Serif\" font-size=\"14.00\">squared_error = 0.0</text>\n<text text-anchor=\"middle\" x=\"530\" y=\"-22.8\" font-family=\"Helvetica,sans-Serif\" font-size=\"14.00\">samples = 1</text>\n<text text-anchor=\"middle\" x=\"530\" y=\"-7.8\" font-family=\"Helvetica,sans-Serif\" font-size=\"14.00\">value = 0.087</text>\n</g>\n<!-- 10&#45;&gt;11 -->\n<g id=\"edge11\" class=\"edge\">\n<title>10&#45;&gt;11</title>\n<path fill=\"none\" stroke=\"black\" d=\"M530,-88.95C530,-80.72 530,-71.85 530,-63.48\"/>\n<polygon fill=\"black\" stroke=\"black\" points=\"533.5,-63.24 530,-53.24 526.5,-63.24 533.5,-63.24\"/>\n</g>\n<!-- 12 -->\n<g id=\"node13\" class=\"node\">\n<title>12</title>\n<polygon fill=\"none\" stroke=\"black\" points=\"752,-53 616,-53 616,0 752,0 752,-53\"/>\n<text text-anchor=\"middle\" x=\"684\" y=\"-37.8\" font-family=\"Helvetica,sans-Serif\" font-size=\"14.00\">squared_error = 0.0</text>\n<text text-anchor=\"middle\" x=\"684\" y=\"-22.8\" font-family=\"Helvetica,sans-Serif\" font-size=\"14.00\">samples = 7</text>\n<text text-anchor=\"middle\" x=\"684\" y=\"-7.8\" font-family=\"Helvetica,sans-Serif\" font-size=\"14.00\">value = 0.074</text>\n</g>\n<!-- 10&#45;&gt;12 -->\n<g id=\"edge12\" class=\"edge\">\n<title>10&#45;&gt;12</title>\n<path fill=\"none\" stroke=\"black\" d=\"M583.86,-88.95C599.96,-79.07 617.55,-68.28 633.43,-58.53\"/>\n<polygon fill=\"black\" stroke=\"black\" points=\"635.37,-61.45 642.06,-53.24 631.7,-55.48 635.37,-61.45\"/>\n</g>\n<!-- 14 -->\n<g id=\"node15\" class=\"node\">\n<title>14</title>\n<polygon fill=\"none\" stroke=\"black\" points=\"906,-261 770,-261 770,-193 906,-193 906,-261\"/>\n<text text-anchor=\"middle\" x=\"838\" y=\"-245.8\" font-family=\"Helvetica,sans-Serif\" font-size=\"14.00\">X[17] &lt;= 330.0</text>\n<text text-anchor=\"middle\" x=\"838\" y=\"-230.8\" font-family=\"Helvetica,sans-Serif\" font-size=\"14.00\">squared_error = 0.0</text>\n<text text-anchor=\"middle\" x=\"838\" y=\"-215.8\" font-family=\"Helvetica,sans-Serif\" font-size=\"14.00\">samples = 4</text>\n<text text-anchor=\"middle\" x=\"838\" y=\"-200.8\" font-family=\"Helvetica,sans-Serif\" font-size=\"14.00\">value = 0.095</text>\n</g>\n<!-- 13&#45;&gt;14 -->\n<g id=\"edge14\" class=\"edge\">\n<title>13&#45;&gt;14</title>\n<path fill=\"none\" stroke=\"black\" d=\"M890,-296.88C883.41,-288.15 876.22,-278.62 869.34,-269.51\"/>\n<polygon fill=\"black\" stroke=\"black\" points=\"871.96,-267.17 863.14,-261.3 866.37,-271.39 871.96,-267.17\"/>\n</g>\n<!-- 19 -->\n<g id=\"node20\" class=\"node\">\n<title>19</title>\n<polygon fill=\"none\" stroke=\"black\" points=\"1060,-253.5 924,-253.5 924,-200.5 1060,-200.5 1060,-253.5\"/>\n<text text-anchor=\"middle\" x=\"992\" y=\"-238.3\" font-family=\"Helvetica,sans-Serif\" font-size=\"14.00\">squared_error = 0.0</text>\n<text text-anchor=\"middle\" x=\"992\" y=\"-223.3\" font-family=\"Helvetica,sans-Serif\" font-size=\"14.00\">samples = 1</text>\n<text text-anchor=\"middle\" x=\"992\" y=\"-208.3\" font-family=\"Helvetica,sans-Serif\" font-size=\"14.00\">value = 0.076</text>\n</g>\n<!-- 13&#45;&gt;19 -->\n<g id=\"edge19\" class=\"edge\">\n<title>13&#45;&gt;19</title>\n<path fill=\"none\" stroke=\"black\" d=\"M940,-296.88C948.55,-285.56 958.12,-272.88 966.7,-261.52\"/>\n<polygon fill=\"black\" stroke=\"black\" points=\"969.5,-263.61 972.73,-253.52 963.92,-259.39 969.5,-263.61\"/>\n</g>\n<!-- 15 -->\n<g id=\"node16\" class=\"node\">\n<title>15</title>\n<polygon fill=\"none\" stroke=\"black\" points=\"829,-149.5 693,-149.5 693,-96.5 829,-96.5 829,-149.5\"/>\n<text text-anchor=\"middle\" x=\"761\" y=\"-134.3\" font-family=\"Helvetica,sans-Serif\" font-size=\"14.00\">squared_error = 0.0</text>\n<text text-anchor=\"middle\" x=\"761\" y=\"-119.3\" font-family=\"Helvetica,sans-Serif\" font-size=\"14.00\">samples = 1</text>\n<text text-anchor=\"middle\" x=\"761\" y=\"-104.3\" font-family=\"Helvetica,sans-Serif\" font-size=\"14.00\">value = 0.101</text>\n</g>\n<!-- 14&#45;&gt;15 -->\n<g id=\"edge15\" class=\"edge\">\n<title>14&#45;&gt;15</title>\n<path fill=\"none\" stroke=\"black\" d=\"M813,-192.88C804.45,-181.56 794.88,-168.88 786.3,-157.52\"/>\n<polygon fill=\"black\" stroke=\"black\" points=\"789.08,-155.39 780.27,-149.52 783.5,-159.61 789.08,-155.39\"/>\n</g>\n<!-- 16 -->\n<g id=\"node17\" class=\"node\">\n<title>16</title>\n<polygon fill=\"none\" stroke=\"black\" points=\"983,-157 847,-157 847,-89 983,-89 983,-157\"/>\n<text text-anchor=\"middle\" x=\"915\" y=\"-141.8\" font-family=\"Helvetica,sans-Serif\" font-size=\"14.00\">X[11] &lt;= 155.797</text>\n<text text-anchor=\"middle\" x=\"915\" y=\"-126.8\" font-family=\"Helvetica,sans-Serif\" font-size=\"14.00\">squared_error = 0.0</text>\n<text text-anchor=\"middle\" x=\"915\" y=\"-111.8\" font-family=\"Helvetica,sans-Serif\" font-size=\"14.00\">samples = 3</text>\n<text text-anchor=\"middle\" x=\"915\" y=\"-96.8\" font-family=\"Helvetica,sans-Serif\" font-size=\"14.00\">value = 0.09</text>\n</g>\n<!-- 14&#45;&gt;16 -->\n<g id=\"edge16\" class=\"edge\">\n<title>14&#45;&gt;16</title>\n<path fill=\"none\" stroke=\"black\" d=\"M863,-192.88C869.59,-184.15 876.78,-174.62 883.66,-165.51\"/>\n<polygon fill=\"black\" stroke=\"black\" points=\"886.63,-167.39 889.86,-157.3 881.04,-163.17 886.63,-167.39\"/>\n</g>\n<!-- 17 -->\n<g id=\"node18\" class=\"node\">\n<title>17</title>\n<polygon fill=\"none\" stroke=\"black\" points=\"906,-53 770,-53 770,0 906,0 906,-53\"/>\n<text text-anchor=\"middle\" x=\"838\" y=\"-37.8\" font-family=\"Helvetica,sans-Serif\" font-size=\"14.00\">squared_error = 0.0</text>\n<text text-anchor=\"middle\" x=\"838\" y=\"-22.8\" font-family=\"Helvetica,sans-Serif\" font-size=\"14.00\">samples = 2</text>\n<text text-anchor=\"middle\" x=\"838\" y=\"-7.8\" font-family=\"Helvetica,sans-Serif\" font-size=\"14.00\">value = 0.089</text>\n</g>\n<!-- 16&#45;&gt;17 -->\n<g id=\"edge17\" class=\"edge\">\n<title>16&#45;&gt;17</title>\n<path fill=\"none\" stroke=\"black\" d=\"M888.07,-88.95C880.76,-79.98 872.85,-70.27 865.51,-61.26\"/>\n<polygon fill=\"black\" stroke=\"black\" points=\"868,-58.78 858.97,-53.24 862.57,-63.2 868,-58.78\"/>\n</g>\n<!-- 18 -->\n<g id=\"node19\" class=\"node\">\n<title>18</title>\n<polygon fill=\"none\" stroke=\"black\" points=\"1060,-53 924,-53 924,0 1060,0 1060,-53\"/>\n<text text-anchor=\"middle\" x=\"992\" y=\"-37.8\" font-family=\"Helvetica,sans-Serif\" font-size=\"14.00\">squared_error = 0.0</text>\n<text text-anchor=\"middle\" x=\"992\" y=\"-22.8\" font-family=\"Helvetica,sans-Serif\" font-size=\"14.00\">samples = 1</text>\n<text text-anchor=\"middle\" x=\"992\" y=\"-7.8\" font-family=\"Helvetica,sans-Serif\" font-size=\"14.00\">value = 0.092</text>\n</g>\n<!-- 16&#45;&gt;18 -->\n<g id=\"edge18\" class=\"edge\">\n<title>16&#45;&gt;18</title>\n<path fill=\"none\" stroke=\"black\" d=\"M941.93,-88.95C949.24,-79.98 957.15,-70.27 964.49,-61.26\"/>\n<polygon fill=\"black\" stroke=\"black\" points=\"967.43,-63.2 971.03,-53.24 962,-58.78 967.43,-63.2\"/>\n</g>\n<!-- 21 -->\n<g id=\"node22\" class=\"node\">\n<title>21</title>\n<polygon fill=\"none\" stroke=\"black\" points=\"1445,-365 1309,-365 1309,-297 1445,-297 1445,-365\"/>\n<text text-anchor=\"middle\" x=\"1377\" y=\"-349.8\" font-family=\"Helvetica,sans-Serif\" font-size=\"14.00\">X[21] &lt;= 91.936</text>\n<text text-anchor=\"middle\" x=\"1377\" y=\"-334.8\" font-family=\"Helvetica,sans-Serif\" font-size=\"14.00\">squared_error = 0.0</text>\n<text text-anchor=\"middle\" x=\"1377\" y=\"-319.8\" font-family=\"Helvetica,sans-Serif\" font-size=\"14.00\">samples = 21</text>\n<text text-anchor=\"middle\" x=\"1377\" y=\"-304.8\" font-family=\"Helvetica,sans-Serif\" font-size=\"14.00\">value = 0.052</text>\n</g>\n<!-- 20&#45;&gt;21 -->\n<g id=\"edge21\" class=\"edge\">\n<title>20&#45;&gt;21</title>\n<path fill=\"none\" stroke=\"black\" d=\"M1377,-400.88C1377,-392.78 1377,-383.98 1377,-375.47\"/>\n<polygon fill=\"black\" stroke=\"black\" points=\"1380.5,-375.3 1377,-365.3 1373.5,-375.3 1380.5,-375.3\"/>\n</g>\n<!-- 34 -->\n<g id=\"node35\" class=\"node\">\n<title>34</title>\n<polygon fill=\"none\" stroke=\"black\" points=\"1599,-357.5 1463,-357.5 1463,-304.5 1599,-304.5 1599,-357.5\"/>\n<text text-anchor=\"middle\" x=\"1531\" y=\"-342.3\" font-family=\"Helvetica,sans-Serif\" font-size=\"14.00\">squared_error = 0.0</text>\n<text text-anchor=\"middle\" x=\"1531\" y=\"-327.3\" font-family=\"Helvetica,sans-Serif\" font-size=\"14.00\">samples = 1</text>\n<text text-anchor=\"middle\" x=\"1531\" y=\"-312.3\" font-family=\"Helvetica,sans-Serif\" font-size=\"14.00\">value = 0.075</text>\n</g>\n<!-- 20&#45;&gt;34 -->\n<g id=\"edge34\" class=\"edge\">\n<title>20&#45;&gt;34</title>\n<path fill=\"none\" stroke=\"black\" d=\"M1427,-400.88C1445.26,-388.79 1465.85,-375.15 1483.86,-363.22\"/>\n<polygon fill=\"black\" stroke=\"black\" points=\"1486.07,-365.96 1492.47,-357.52 1482.2,-360.12 1486.07,-365.96\"/>\n</g>\n<!-- 22 -->\n<g id=\"node23\" class=\"node\">\n<title>22</title>\n<polygon fill=\"none\" stroke=\"black\" points=\"1445,-261 1309,-261 1309,-193 1445,-193 1445,-261\"/>\n<text text-anchor=\"middle\" x=\"1377\" y=\"-245.8\" font-family=\"Helvetica,sans-Serif\" font-size=\"14.00\">X[18] &lt;= 15751.5</text>\n<text text-anchor=\"middle\" x=\"1377\" y=\"-230.8\" font-family=\"Helvetica,sans-Serif\" font-size=\"14.00\">squared_error = 0.0</text>\n<text text-anchor=\"middle\" x=\"1377\" y=\"-215.8\" font-family=\"Helvetica,sans-Serif\" font-size=\"14.00\">samples = 9</text>\n<text text-anchor=\"middle\" x=\"1377\" y=\"-200.8\" font-family=\"Helvetica,sans-Serif\" font-size=\"14.00\">value = 0.047</text>\n</g>\n<!-- 21&#45;&gt;22 -->\n<g id=\"edge22\" class=\"edge\">\n<title>21&#45;&gt;22</title>\n<path fill=\"none\" stroke=\"black\" d=\"M1377,-296.88C1377,-288.78 1377,-279.98 1377,-271.47\"/>\n<polygon fill=\"black\" stroke=\"black\" points=\"1380.5,-271.3 1377,-261.3 1373.5,-271.3 1380.5,-271.3\"/>\n</g>\n<!-- 29 -->\n<g id=\"node30\" class=\"node\">\n<title>29</title>\n<polygon fill=\"none\" stroke=\"black\" points=\"1834,-261 1698,-261 1698,-193 1834,-193 1834,-261\"/>\n<text text-anchor=\"middle\" x=\"1766\" y=\"-245.8\" font-family=\"Helvetica,sans-Serif\" font-size=\"14.00\">X[23] &lt;= 11.184</text>\n<text text-anchor=\"middle\" x=\"1766\" y=\"-230.8\" font-family=\"Helvetica,sans-Serif\" font-size=\"14.00\">squared_error = 0.0</text>\n<text text-anchor=\"middle\" x=\"1766\" y=\"-215.8\" font-family=\"Helvetica,sans-Serif\" font-size=\"14.00\">samples = 12</text>\n<text text-anchor=\"middle\" x=\"1766\" y=\"-200.8\" font-family=\"Helvetica,sans-Serif\" font-size=\"14.00\">value = 0.056</text>\n</g>\n<!-- 21&#45;&gt;29 -->\n<g id=\"edge29\" class=\"edge\">\n<title>21&#45;&gt;29</title>\n<path fill=\"none\" stroke=\"black\" d=\"M1445.18,-299.99C1448.14,-298.94 1451.09,-297.94 1454,-297 1532.07,-271.88 1624.03,-252.76 1687.79,-241.09\"/>\n<polygon fill=\"black\" stroke=\"black\" points=\"1688.56,-244.51 1697.78,-239.28 1687.31,-237.62 1688.56,-244.51\"/>\n</g>\n<!-- 23 -->\n<g id=\"node24\" class=\"node\">\n<title>23</title>\n<polygon fill=\"none\" stroke=\"black\" points=\"1368,-157 1232,-157 1232,-89 1368,-89 1368,-157\"/>\n<text text-anchor=\"middle\" x=\"1300\" y=\"-141.8\" font-family=\"Helvetica,sans-Serif\" font-size=\"14.00\">X[9] &lt;= 236.175</text>\n<text text-anchor=\"middle\" x=\"1300\" y=\"-126.8\" font-family=\"Helvetica,sans-Serif\" font-size=\"14.00\">squared_error = 0.0</text>\n<text text-anchor=\"middle\" x=\"1300\" y=\"-111.8\" font-family=\"Helvetica,sans-Serif\" font-size=\"14.00\">samples = 5</text>\n<text text-anchor=\"middle\" x=\"1300\" y=\"-96.8\" font-family=\"Helvetica,sans-Serif\" font-size=\"14.00\">value = 0.052</text>\n</g>\n<!-- 22&#45;&gt;23 -->\n<g id=\"edge23\" class=\"edge\">\n<title>22&#45;&gt;23</title>\n<path fill=\"none\" stroke=\"black\" d=\"M1352,-192.88C1345.41,-184.15 1338.22,-174.62 1331.34,-165.51\"/>\n<polygon fill=\"black\" stroke=\"black\" points=\"1333.96,-163.17 1325.14,-157.3 1328.37,-167.39 1333.96,-163.17\"/>\n</g>\n<!-- 26 -->\n<g id=\"node27\" class=\"node\">\n<title>26</title>\n<polygon fill=\"none\" stroke=\"black\" points=\"1522,-157 1386,-157 1386,-89 1522,-89 1522,-157\"/>\n<text text-anchor=\"middle\" x=\"1454\" y=\"-141.8\" font-family=\"Helvetica,sans-Serif\" font-size=\"14.00\">X[18] &lt;= 22630.5</text>\n<text text-anchor=\"middle\" x=\"1454\" y=\"-126.8\" font-family=\"Helvetica,sans-Serif\" font-size=\"14.00\">squared_error = 0.0</text>\n<text text-anchor=\"middle\" x=\"1454\" y=\"-111.8\" font-family=\"Helvetica,sans-Serif\" font-size=\"14.00\">samples = 4</text>\n<text text-anchor=\"middle\" x=\"1454\" y=\"-96.8\" font-family=\"Helvetica,sans-Serif\" font-size=\"14.00\">value = 0.04</text>\n</g>\n<!-- 22&#45;&gt;26 -->\n<g id=\"edge26\" class=\"edge\">\n<title>22&#45;&gt;26</title>\n<path fill=\"none\" stroke=\"black\" d=\"M1402,-192.88C1408.59,-184.15 1415.78,-174.62 1422.66,-165.51\"/>\n<polygon fill=\"black\" stroke=\"black\" points=\"1425.63,-167.39 1428.86,-157.3 1420.04,-163.17 1425.63,-167.39\"/>\n</g>\n<!-- 24 -->\n<g id=\"node25\" class=\"node\">\n<title>24</title>\n<polygon fill=\"none\" stroke=\"black\" points=\"1214,-53 1078,-53 1078,0 1214,0 1214,-53\"/>\n<text text-anchor=\"middle\" x=\"1146\" y=\"-37.8\" font-family=\"Helvetica,sans-Serif\" font-size=\"14.00\">squared_error = 0.0</text>\n<text text-anchor=\"middle\" x=\"1146\" y=\"-22.8\" font-family=\"Helvetica,sans-Serif\" font-size=\"14.00\">samples = 3</text>\n<text text-anchor=\"middle\" x=\"1146\" y=\"-7.8\" font-family=\"Helvetica,sans-Serif\" font-size=\"14.00\">value = 0.056</text>\n</g>\n<!-- 23&#45;&gt;24 -->\n<g id=\"edge24\" class=\"edge\">\n<title>23&#45;&gt;24</title>\n<path fill=\"none\" stroke=\"black\" d=\"M1246.14,-88.95C1230.04,-79.07 1212.45,-68.28 1196.57,-58.53\"/>\n<polygon fill=\"black\" stroke=\"black\" points=\"1198.3,-55.48 1187.94,-53.24 1194.63,-61.45 1198.3,-55.48\"/>\n</g>\n<!-- 25 -->\n<g id=\"node26\" class=\"node\">\n<title>25</title>\n<polygon fill=\"none\" stroke=\"black\" points=\"1368,-53 1232,-53 1232,0 1368,0 1368,-53\"/>\n<text text-anchor=\"middle\" x=\"1300\" y=\"-37.8\" font-family=\"Helvetica,sans-Serif\" font-size=\"14.00\">squared_error = 0.0</text>\n<text text-anchor=\"middle\" x=\"1300\" y=\"-22.8\" font-family=\"Helvetica,sans-Serif\" font-size=\"14.00\">samples = 2</text>\n<text text-anchor=\"middle\" x=\"1300\" y=\"-7.8\" font-family=\"Helvetica,sans-Serif\" font-size=\"14.00\">value = 0.046</text>\n</g>\n<!-- 23&#45;&gt;25 -->\n<g id=\"edge25\" class=\"edge\">\n<title>23&#45;&gt;25</title>\n<path fill=\"none\" stroke=\"black\" d=\"M1300,-88.95C1300,-80.72 1300,-71.85 1300,-63.48\"/>\n<polygon fill=\"black\" stroke=\"black\" points=\"1303.5,-63.24 1300,-53.24 1296.5,-63.24 1303.5,-63.24\"/>\n</g>\n<!-- 27 -->\n<g id=\"node28\" class=\"node\">\n<title>27</title>\n<polygon fill=\"none\" stroke=\"black\" points=\"1522,-53 1386,-53 1386,0 1522,0 1522,-53\"/>\n<text text-anchor=\"middle\" x=\"1454\" y=\"-37.8\" font-family=\"Helvetica,sans-Serif\" font-size=\"14.00\">squared_error = 0.0</text>\n<text text-anchor=\"middle\" x=\"1454\" y=\"-22.8\" font-family=\"Helvetica,sans-Serif\" font-size=\"14.00\">samples = 3</text>\n<text text-anchor=\"middle\" x=\"1454\" y=\"-7.8\" font-family=\"Helvetica,sans-Serif\" font-size=\"14.00\">value = 0.039</text>\n</g>\n<!-- 26&#45;&gt;27 -->\n<g id=\"edge27\" class=\"edge\">\n<title>26&#45;&gt;27</title>\n<path fill=\"none\" stroke=\"black\" d=\"M1454,-88.95C1454,-80.72 1454,-71.85 1454,-63.48\"/>\n<polygon fill=\"black\" stroke=\"black\" points=\"1457.5,-63.24 1454,-53.24 1450.5,-63.24 1457.5,-63.24\"/>\n</g>\n<!-- 28 -->\n<g id=\"node29\" class=\"node\">\n<title>28</title>\n<polygon fill=\"none\" stroke=\"black\" points=\"1680,-53 1540,-53 1540,0 1680,0 1680,-53\"/>\n<text text-anchor=\"middle\" x=\"1610\" y=\"-37.8\" font-family=\"Helvetica,sans-Serif\" font-size=\"14.00\">squared_error = &#45;0.0</text>\n<text text-anchor=\"middle\" x=\"1610\" y=\"-22.8\" font-family=\"Helvetica,sans-Serif\" font-size=\"14.00\">samples = 1</text>\n<text text-anchor=\"middle\" x=\"1610\" y=\"-7.8\" font-family=\"Helvetica,sans-Serif\" font-size=\"14.00\">value = 0.042</text>\n</g>\n<!-- 26&#45;&gt;28 -->\n<g id=\"edge28\" class=\"edge\">\n<title>26&#45;&gt;28</title>\n<path fill=\"none\" stroke=\"black\" d=\"M1508.56,-88.95C1524.87,-79.07 1542.69,-68.28 1558.78,-58.53\"/>\n<polygon fill=\"black\" stroke=\"black\" points=\"1560.77,-61.41 1567.51,-53.24 1557.15,-55.42 1560.77,-61.41\"/>\n</g>\n<!-- 30 -->\n<g id=\"node31\" class=\"node\">\n<title>30</title>\n<polygon fill=\"none\" stroke=\"black\" points=\"1834,-157 1698,-157 1698,-89 1834,-89 1834,-157\"/>\n<text text-anchor=\"middle\" x=\"1766\" y=\"-141.8\" font-family=\"Helvetica,sans-Serif\" font-size=\"14.00\">X[2] &lt;= 234.289</text>\n<text text-anchor=\"middle\" x=\"1766\" y=\"-126.8\" font-family=\"Helvetica,sans-Serif\" font-size=\"14.00\">squared_error = 0.0</text>\n<text text-anchor=\"middle\" x=\"1766\" y=\"-111.8\" font-family=\"Helvetica,sans-Serif\" font-size=\"14.00\">samples = 11</text>\n<text text-anchor=\"middle\" x=\"1766\" y=\"-96.8\" font-family=\"Helvetica,sans-Serif\" font-size=\"14.00\">value = 0.055</text>\n</g>\n<!-- 29&#45;&gt;30 -->\n<g id=\"edge30\" class=\"edge\">\n<title>29&#45;&gt;30</title>\n<path fill=\"none\" stroke=\"black\" d=\"M1766,-192.88C1766,-184.78 1766,-175.98 1766,-167.47\"/>\n<polygon fill=\"black\" stroke=\"black\" points=\"1769.5,-167.3 1766,-157.3 1762.5,-167.3 1769.5,-167.3\"/>\n</g>\n<!-- 33 -->\n<g id=\"node34\" class=\"node\">\n<title>33</title>\n<polygon fill=\"none\" stroke=\"black\" points=\"1988,-149.5 1852,-149.5 1852,-96.5 1988,-96.5 1988,-149.5\"/>\n<text text-anchor=\"middle\" x=\"1920\" y=\"-134.3\" font-family=\"Helvetica,sans-Serif\" font-size=\"14.00\">squared_error = 0.0</text>\n<text text-anchor=\"middle\" x=\"1920\" y=\"-119.3\" font-family=\"Helvetica,sans-Serif\" font-size=\"14.00\">samples = 1</text>\n<text text-anchor=\"middle\" x=\"1920\" y=\"-104.3\" font-family=\"Helvetica,sans-Serif\" font-size=\"14.00\">value = 0.076</text>\n</g>\n<!-- 29&#45;&gt;33 -->\n<g id=\"edge33\" class=\"edge\">\n<title>29&#45;&gt;33</title>\n<path fill=\"none\" stroke=\"black\" d=\"M1816,-192.88C1834.26,-180.79 1854.85,-167.15 1872.86,-155.22\"/>\n<polygon fill=\"black\" stroke=\"black\" points=\"1875.07,-157.96 1881.47,-149.52 1871.2,-152.12 1875.07,-157.96\"/>\n</g>\n<!-- 31 -->\n<g id=\"node32\" class=\"node\">\n<title>31</title>\n<polygon fill=\"none\" stroke=\"black\" points=\"1834,-53 1698,-53 1698,0 1834,0 1834,-53\"/>\n<text text-anchor=\"middle\" x=\"1766\" y=\"-37.8\" font-family=\"Helvetica,sans-Serif\" font-size=\"14.00\">squared_error = 0.0</text>\n<text text-anchor=\"middle\" x=\"1766\" y=\"-22.8\" font-family=\"Helvetica,sans-Serif\" font-size=\"14.00\">samples = 10</text>\n<text text-anchor=\"middle\" x=\"1766\" y=\"-7.8\" font-family=\"Helvetica,sans-Serif\" font-size=\"14.00\">value = 0.056</text>\n</g>\n<!-- 30&#45;&gt;31 -->\n<g id=\"edge31\" class=\"edge\">\n<title>30&#45;&gt;31</title>\n<path fill=\"none\" stroke=\"black\" d=\"M1766,-88.95C1766,-80.72 1766,-71.85 1766,-63.48\"/>\n<polygon fill=\"black\" stroke=\"black\" points=\"1769.5,-63.24 1766,-53.24 1762.5,-63.24 1769.5,-63.24\"/>\n</g>\n<!-- 32 -->\n<g id=\"node33\" class=\"node\">\n<title>32</title>\n<polygon fill=\"none\" stroke=\"black\" points=\"1988,-53 1852,-53 1852,0 1988,0 1988,-53\"/>\n<text text-anchor=\"middle\" x=\"1920\" y=\"-37.8\" font-family=\"Helvetica,sans-Serif\" font-size=\"14.00\">squared_error = 0.0</text>\n<text text-anchor=\"middle\" x=\"1920\" y=\"-22.8\" font-family=\"Helvetica,sans-Serif\" font-size=\"14.00\">samples = 1</text>\n<text text-anchor=\"middle\" x=\"1920\" y=\"-7.8\" font-family=\"Helvetica,sans-Serif\" font-size=\"14.00\">value = 0.041</text>\n</g>\n<!-- 30&#45;&gt;32 -->\n<g id=\"edge32\" class=\"edge\">\n<title>30&#45;&gt;32</title>\n<path fill=\"none\" stroke=\"black\" d=\"M1819.86,-88.95C1835.96,-79.07 1853.55,-68.28 1869.43,-58.53\"/>\n<polygon fill=\"black\" stroke=\"black\" points=\"1871.37,-61.45 1878.06,-53.24 1867.7,-55.48 1871.37,-61.45\"/>\n</g>\n</g>\n</svg>\n"
          },
          "metadata": {},
          "execution_count": 14
        }
      ]
    },
    {
      "cell_type": "code",
      "source": [
        "# Calculate the mean absolute error of your Random Forest model on the validation data\n",
        "\n",
        "rf_val_mae = mean_absolute_error(rf_val_predictions, val_y)\n",
        "print(\"Validation MAE for Random Forest Model: {}\".format(rf_val_mae))\n",
        "rf_val_mse = metrics.mean_squared_error(rf_val_predictions, val_y)\n",
        "print(\"Validation MSE for Random Forest Model: {}\".format(rf_val_mse))\n",
        "print('Root Mean Squared Error (RMSE):', np.sqrt(metrics.mean_squared_error(rf_val_predictions, val_y)))\n",
        "mape = np.mean(np.abs((val_y - rf_val_predictions) / np.abs(val_y)))\n",
        "print('Mean Absolute Percentage Error (MAPE):', round(mape * 100, 2))\n",
        "print('Accuracy:', round(100*(1 - mape), 2))"
      ],
      "metadata": {
        "colab": {
          "base_uri": "https://localhost:8080/"
        },
        "id": "c-k1xOWl2iL9",
        "outputId": "a6e16365-c59a-4fcc-f74d-b7b8f9b5d069"
      },
      "execution_count": 15,
      "outputs": [
        {
          "output_type": "stream",
          "name": "stdout",
          "text": [
            "Validation MAE for Random Forest Model: 0.0072126377716367675\n",
            "Validation MSE for Random Forest Model: 6.989342145430204e-05\n",
            "Root Mean Squared Error (RMSE): 0.008360228552755124\n",
            "Mean Absolute Percentage Error (MAPE): 14.48\n",
            "Accuracy: 85.52\n"
          ]
        }
      ]
    },
    {
      "cell_type": "code",
      "execution_count": 16,
      "metadata": {
        "id": "GmAqsHN4pprl",
        "colab": {
          "base_uri": "https://localhost:8080/"
        },
        "outputId": "62013684-f4cf-47f4-8fe4-bf5fecf8d668"
      },
      "outputs": [
        {
          "output_type": "stream",
          "name": "stdout",
          "text": [
            "<class 'pandas.core.frame.DataFrame'>\n"
          ]
        }
      ],
      "source": [
        "#print(rf_val_predictions)\n",
        "#print(val_y)\n",
        "print(type(val_X))"
      ]
    },
    {
      "cell_type": "code",
      "execution_count": 17,
      "metadata": {
        "id": "1ScEBJmOYBPD",
        "colab": {
          "base_uri": "https://localhost:8080/"
        },
        "outputId": "36755ccd-4a22-4d9e-d93a-b8dc6e5af683"
      },
      "outputs": [
        {
          "output_type": "stream",
          "name": "stdout",
          "text": [
            "Entre o previsto de P-(C<0,02): 0\n",
            "Entre o previsto de P-UBC: 0\n",
            "Entre o previsto de V-c/Ca(S≤3;H=2): 120\n",
            "Entre o previsto de V-c/Ca(S≤3;H=3): 0\n",
            "Entre o previsto de V-c/Ca(S≤3;H≥4): 0\n",
            "Entre o previsto de V-c/Ca(S≥4;H=2): 0\n",
            "Entre o previsto de V-c/Ca(S≥4;H=3): 0\n",
            "Entre o previsto de V-c/Ca(S≥4;H≥4): 0\n",
            "Entre o previsto de V-s/Ca(S≥4;H=3): 0\n",
            "Entre o previsto de V-s/Ca(S≥4;H≥4): 205.6\n",
            "Entre o previsto de V-UBC: 0\n",
            "Entre o previsto de W-c/Ca(S≤3;H≥4): 0\n",
            "Entre o previsto de W-c/Ca(S≥4;H≥4): 325.7\n",
            "Entre o previsto de W-comum(eferv): 0\n",
            "Entre o previsto de W-s/Ca(S≤3;H≥4): 0\n",
            "Entre o previsto de W-s/Ca(S≥4;H≥4): 464.4\n",
            "Entre o previsto de W-UBC: 0\n",
            "Entre o previsto de Fluorita_LF: 244\n",
            "Entre o previsto de FluoritaKg: 6469\n",
            "Entre o previsto de M_Fluorita_LF: 3.93\n",
            "Entre o previsto de M_FluoritaKg: 107.8\n",
            "Entre o previsto de Media_Projecao: 150\n",
            "Entre o previsto de Aq>=200: 7\n",
            "Entre o previsto de Cal/Fluorita: 14.62\n",
            "Entre o previsto de Es>6h: 1\n",
            "Entre o previsto de perc_proj: 0.75\n",
            "['0', '0', '120', '0', '0', '0', '0', '0', '0', '205.6', '0', '0', '325.7', '0', '0', '464.4', '0', '244', '6469', '3.93', '107.8', '150', '7', '14.62', '1', '0.75']\n",
            "{'P-(C<0,02)': ['0'], 'P-UBC': ['0'], 'V-c/Ca(S≤3;H=2)': ['120'], 'V-c/Ca(S≤3;H=3)': ['0'], 'V-c/Ca(S≤3;H≥4)': ['0'], 'V-c/Ca(S≥4;H=2)': ['0'], 'V-c/Ca(S≥4;H=3)': ['0'], 'V-c/Ca(S≥4;H≥4)': ['0'], 'V-s/Ca(S≥4;H=3)': ['0'], 'V-s/Ca(S≥4;H≥4)': ['205.6'], 'V-UBC': ['0'], 'W-c/Ca(S≤3;H≥4)': ['0'], 'W-c/Ca(S≥4;H≥4)': ['325.7'], 'W-comum(eferv)': ['0'], 'W-s/Ca(S≤3;H≥4)': ['0'], 'W-s/Ca(S≥4;H≥4)': ['464.4'], 'W-UBC': ['0'], 'Fluorita_LF': ['244'], 'FluoritaKg': ['6469'], 'M_Fluorita_LF': ['3.93'], 'M_FluoritaKg': ['107.8'], 'Media_Projecao': ['150'], 'Aq>=200': ['7'], 'Cal/Fluorita': ['14.62'], 'Es>6h': ['1'], 'perc_proj': ['0.75']}\n"
          ]
        }
      ],
      "source": [
        "#Inserir dados para avaliar previsao do modelo\n",
        "#feature_columns = [ \"P-(C<0,02)\", \"P-UBC\", \"V-c/Ca(S≤3;H=2)\", \"V-c/Ca(S≤3;H=3)\",\"V-c/Ca(S≤3;H≥4)\", \"V-c/Ca(S≥4;H≥4)\", \"V-s/Ca(S≥4;H=3)\", \"V-s/Ca(S≥4;H≥4)\", \"V-UBC\", \"W-c/Ca(S≤3;H≥4)\", \"W-c/Ca(S≥4;H≥4)\", \"W-comum(eferv)\", \"W-s/Ca(S≤3;H≥4)\", \"W-s/Ca(S≥4;H≥4)\", \"W-UBC\", \"Fluorita_LF\", \"FluoritaKg\",\"Media_Projecao\", \"Aq>=200\", \"Cal/Fluorita\", \"Es>6h\"]\n",
        "imput_data = [0, 0, 171.8, 163.8, 0, 0, 10, 200, 0, 0, 0, 300, 19, 400, 0, 0, 1915, 220062, 12000, 14, 9, 6,0,0,0,0]\n",
        "for i in range(len(feature_columns)):\n",
        "   imput_data[i]= input(f\"Entre o previsto de {feature_columns[i]}: \")\n",
        "print(imput_data)\n",
        "\n",
        "\n",
        "data_dict = {feature_columns[i]:[imput_data[i]] for i in range(len(feature_columns))}\n",
        "\n",
        "print(data_dict)"
      ]
    },
    {
      "cell_type": "code",
      "execution_count": 21,
      "metadata": {
        "id": "eNAdGYHzajvj",
        "colab": {
          "base_uri": "https://localhost:8080/"
        },
        "outputId": "5816803f-d706-4a3b-bdf2-3fdd1b377e12"
      },
      "outputs": [
        {
          "output_type": "stream",
          "name": "stdout",
          "text": [
            "  P-(C<0,02) P-UBC V-c/Ca(S≤3;H=2) V-c/Ca(S≤3;H=3) V-c/Ca(S≤3;H≥4)  \\\n",
            "0          0     0             120               0               0   \n",
            "\n",
            "  V-c/Ca(S≥4;H=2) V-c/Ca(S≥4;H=3) V-c/Ca(S≥4;H≥4) V-s/Ca(S≥4;H=3)  \\\n",
            "0               0               0               0               0   \n",
            "\n",
            "  V-s/Ca(S≥4;H≥4)  ... W-UBC Fluorita_LF FluoritaKg M_Fluorita_LF  \\\n",
            "0           205.6  ...     0         244       6469          3.93   \n",
            "\n",
            "  M_FluoritaKg Media_Projecao Aq>=200 Cal/Fluorita Es>6h perc_proj  \n",
            "0        107.8            150       7        14.62     1      0.75  \n",
            "\n",
            "[1 rows x 26 columns]\n"
          ]
        }
      ],
      "source": [
        "df_data = pd.DataFrame.from_dict(data_dict)\n",
        "print(df_data)"
      ]
    },
    {
      "cell_type": "code",
      "execution_count": 22,
      "metadata": {
        "id": "uQJy9ZmwbIIx",
        "colab": {
          "base_uri": "https://localhost:8080/"
        },
        "outputId": "19da33fc-0981-41d7-9c32-89a83a1ce084"
      },
      "outputs": [
        {
          "output_type": "stream",
          "name": "stdout",
          "text": [
            "[0.06886876]\n"
          ]
        }
      ],
      "source": [
        "rf_snk_predictions = rf_model.predict(df_data)\n",
        "print(rf_snk_predictions)"
      ]
    },
    {
      "cell_type": "markdown",
      "source": [],
      "metadata": {
        "id": "41UfkNMGbTBE"
      }
    },
    {
      "cell_type": "code",
      "execution_count": 29,
      "metadata": {
        "id": "9VJXVgXz9jos",
        "colab": {
          "base_uri": "https://localhost:8080/"
        },
        "outputId": "927614f8-ed98-4d0a-d26b-c809d1835ccc"
      },
      "outputs": [
        {
          "output_type": "stream",
          "name": "stdout",
          "text": [
            "O tempo de trabalho do seu snorkel será de: [1452.03722558] minutos\n",
            "Aproximadamente 72 corridas\n"
          ]
        }
      ],
      "source": [
        "tempo_SNK = 100/rf_snk_predictions\n",
        "print(f\"O tempo de trabalho do seu snorkel será de: {tempo_SNK} minutos\")\n",
        "corridas = int(tempo_SNK/20)\n",
        "print(f\"Aproximadamente {corridas} corridas\")"
      ]
    }
  ],
  "metadata": {
    "colab": {
      "provenance": []
    },
    "kernelspec": {
      "display_name": "Python 3",
      "name": "python3"
    },
    "language_info": {
      "name": "python"
    }
  },
  "nbformat": 4,
  "nbformat_minor": 0
}